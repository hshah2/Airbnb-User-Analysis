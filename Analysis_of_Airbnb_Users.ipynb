{
  "nbformat": 4,
  "nbformat_minor": 0,
  "metadata": {
    "colab": {
      "name": "Analysis of Airbnb Users.ipynb",
      "version": "0.3.2",
      "provenance": []
    },
    "kernelspec": {
      "name": "python3",
      "display_name": "Python 3"
    }
  },
  "cells": [
    {
      "metadata": {
        "id": "1hHw-AeYFgcK",
        "colab_type": "text"
      },
      "cell_type": "markdown",
      "source": [
        "## Objective"
      ]
    },
    {
      "metadata": {
        "id": "AI09q93QFoao",
        "colab_type": "text"
      },
      "cell_type": "markdown",
      "source": [
        "Airbnb is an online marketplace and hospitality service, enabling people to lease or rent short-term lodging including vacation rentals, apartment rentals, homestays, hostels beds, or hotel rooms. New users on Airbnb can book a place to stay in 34,000+ cities across 190+ countries. Analyzing the users behaviour will help to understand more about the users."
      ]
    },
    {
      "metadata": {
        "id": "MGnqOTg7EjcJ",
        "colab_type": "text"
      },
      "cell_type": "markdown",
      "source": [
        "### Importing the data"
      ]
    },
    {
      "metadata": {
        "id": "JmLQ_g_oEf9z",
        "colab_type": "code",
        "colab": {}
      },
      "cell_type": "code",
      "source": [
        "import numpy as np\n",
        "import pandas as pd \n",
        "import seaborn as sns\n",
        "import matplotlib.pyplot as plt\n",
        "import matplotlib as mpl\n",
        "plt.style.use('ggplot')\n",
        "sns.set(style=\"ticks\", color_codes=True)\n",
        "%matplotlib inline"
      ],
      "execution_count": 0,
      "outputs": []
    },
    {
      "metadata": {
        "id": "Lv4rPXihPZX3",
        "colab_type": "code",
        "outputId": "c39ea2ee-e4ca-40d3-d07b-12582878c24c",
        "colab": {
          "base_uri": "https://localhost:8080/",
          "height": 121
        }
      },
      "cell_type": "code",
      "source": [
        "from google.colab import drive\n",
        "drive.mount('/content/drive')"
      ],
      "execution_count": 0,
      "outputs": [
        {
          "output_type": "stream",
          "text": [
            "Go to this URL in a browser: https://accounts.google.com/o/oauth2/auth?client_id=947318989803-6bn6qk8qdgf4n4g3pfee6491hc0brc4i.apps.googleusercontent.com&redirect_uri=urn%3Aietf%3Awg%3Aoauth%3A2.0%3Aoob&scope=email%20https%3A%2F%2Fwww.googleapis.com%2Fauth%2Fdocs.test%20https%3A%2F%2Fwww.googleapis.com%2Fauth%2Fdrive%20https%3A%2F%2Fwww.googleapis.com%2Fauth%2Fdrive.photos.readonly%20https%3A%2F%2Fwww.googleapis.com%2Fauth%2Fpeopleapi.readonly&response_type=code\n",
            "\n",
            "Enter your authorization code:\n",
            "··········\n",
            "Mounted at /content/drive\n"
          ],
          "name": "stdout"
        }
      ]
    },
    {
      "metadata": {
        "id": "JfnXU_vWP0_o",
        "colab_type": "code",
        "colab": {}
      },
      "cell_type": "code",
      "source": [
        "train_data = pd.read_csv(\"drive/My Drive/Colab Notebooks/airbnb-recruiting-new-user-bookings/train_users_2.csv\")"
      ],
      "execution_count": 0,
      "outputs": []
    },
    {
      "metadata": {
        "id": "0uxECctbEtD2",
        "colab_type": "text"
      },
      "cell_type": "markdown",
      "source": [
        "### Summary of the data"
      ]
    },
    {
      "metadata": {
        "id": "EKsCEleZRwRR",
        "colab_type": "code",
        "outputId": "f4abca59-d808-44d2-85bd-ed27551bd26e",
        "colab": {
          "base_uri": "https://localhost:8080/",
          "height": 249
        }
      },
      "cell_type": "code",
      "source": [
        "train_data.head()"
      ],
      "execution_count": 0,
      "outputs": [
        {
          "output_type": "execute_result",
          "data": {
            "text/html": [
              "<div>\n",
              "<style scoped>\n",
              "    .dataframe tbody tr th:only-of-type {\n",
              "        vertical-align: middle;\n",
              "    }\n",
              "\n",
              "    .dataframe tbody tr th {\n",
              "        vertical-align: top;\n",
              "    }\n",
              "\n",
              "    .dataframe thead th {\n",
              "        text-align: right;\n",
              "    }\n",
              "</style>\n",
              "<table border=\"1\" class=\"dataframe\">\n",
              "  <thead>\n",
              "    <tr style=\"text-align: right;\">\n",
              "      <th></th>\n",
              "      <th>id</th>\n",
              "      <th>date_account_created</th>\n",
              "      <th>timestamp_first_active</th>\n",
              "      <th>date_first_booking</th>\n",
              "      <th>gender</th>\n",
              "      <th>age</th>\n",
              "      <th>signup_method</th>\n",
              "      <th>signup_flow</th>\n",
              "      <th>language</th>\n",
              "      <th>affiliate_channel</th>\n",
              "      <th>affiliate_provider</th>\n",
              "      <th>first_affiliate_tracked</th>\n",
              "      <th>signup_app</th>\n",
              "      <th>first_device_type</th>\n",
              "      <th>first_browser</th>\n",
              "      <th>country_destination</th>\n",
              "    </tr>\n",
              "  </thead>\n",
              "  <tbody>\n",
              "    <tr>\n",
              "      <th>0</th>\n",
              "      <td>gxn3p5htnn</td>\n",
              "      <td>2010-06-28</td>\n",
              "      <td>20090319043255</td>\n",
              "      <td>NaN</td>\n",
              "      <td>-unknown-</td>\n",
              "      <td>NaN</td>\n",
              "      <td>facebook</td>\n",
              "      <td>0</td>\n",
              "      <td>en</td>\n",
              "      <td>direct</td>\n",
              "      <td>direct</td>\n",
              "      <td>untracked</td>\n",
              "      <td>Web</td>\n",
              "      <td>Mac Desktop</td>\n",
              "      <td>Chrome</td>\n",
              "      <td>NDF</td>\n",
              "    </tr>\n",
              "    <tr>\n",
              "      <th>1</th>\n",
              "      <td>820tgsjxq7</td>\n",
              "      <td>2011-05-25</td>\n",
              "      <td>20090523174809</td>\n",
              "      <td>NaN</td>\n",
              "      <td>MALE</td>\n",
              "      <td>38.0</td>\n",
              "      <td>facebook</td>\n",
              "      <td>0</td>\n",
              "      <td>en</td>\n",
              "      <td>seo</td>\n",
              "      <td>google</td>\n",
              "      <td>untracked</td>\n",
              "      <td>Web</td>\n",
              "      <td>Mac Desktop</td>\n",
              "      <td>Chrome</td>\n",
              "      <td>NDF</td>\n",
              "    </tr>\n",
              "    <tr>\n",
              "      <th>2</th>\n",
              "      <td>4ft3gnwmtx</td>\n",
              "      <td>2010-09-28</td>\n",
              "      <td>20090609231247</td>\n",
              "      <td>2010-08-02</td>\n",
              "      <td>FEMALE</td>\n",
              "      <td>56.0</td>\n",
              "      <td>basic</td>\n",
              "      <td>3</td>\n",
              "      <td>en</td>\n",
              "      <td>direct</td>\n",
              "      <td>direct</td>\n",
              "      <td>untracked</td>\n",
              "      <td>Web</td>\n",
              "      <td>Windows Desktop</td>\n",
              "      <td>IE</td>\n",
              "      <td>US</td>\n",
              "    </tr>\n",
              "    <tr>\n",
              "      <th>3</th>\n",
              "      <td>bjjt8pjhuk</td>\n",
              "      <td>2011-12-05</td>\n",
              "      <td>20091031060129</td>\n",
              "      <td>2012-09-08</td>\n",
              "      <td>FEMALE</td>\n",
              "      <td>42.0</td>\n",
              "      <td>facebook</td>\n",
              "      <td>0</td>\n",
              "      <td>en</td>\n",
              "      <td>direct</td>\n",
              "      <td>direct</td>\n",
              "      <td>untracked</td>\n",
              "      <td>Web</td>\n",
              "      <td>Mac Desktop</td>\n",
              "      <td>Firefox</td>\n",
              "      <td>other</td>\n",
              "    </tr>\n",
              "    <tr>\n",
              "      <th>4</th>\n",
              "      <td>87mebub9p4</td>\n",
              "      <td>2010-09-14</td>\n",
              "      <td>20091208061105</td>\n",
              "      <td>2010-02-18</td>\n",
              "      <td>-unknown-</td>\n",
              "      <td>41.0</td>\n",
              "      <td>basic</td>\n",
              "      <td>0</td>\n",
              "      <td>en</td>\n",
              "      <td>direct</td>\n",
              "      <td>direct</td>\n",
              "      <td>untracked</td>\n",
              "      <td>Web</td>\n",
              "      <td>Mac Desktop</td>\n",
              "      <td>Chrome</td>\n",
              "      <td>US</td>\n",
              "    </tr>\n",
              "  </tbody>\n",
              "</table>\n",
              "</div>"
            ],
            "text/plain": [
              "           id date_account_created  timestamp_first_active date_first_booking  \\\n",
              "0  gxn3p5htnn           2010-06-28          20090319043255                NaN   \n",
              "1  820tgsjxq7           2011-05-25          20090523174809                NaN   \n",
              "2  4ft3gnwmtx           2010-09-28          20090609231247         2010-08-02   \n",
              "3  bjjt8pjhuk           2011-12-05          20091031060129         2012-09-08   \n",
              "4  87mebub9p4           2010-09-14          20091208061105         2010-02-18   \n",
              "\n",
              "      gender   age signup_method  signup_flow language affiliate_channel  \\\n",
              "0  -unknown-   NaN      facebook            0       en            direct   \n",
              "1       MALE  38.0      facebook            0       en               seo   \n",
              "2     FEMALE  56.0         basic            3       en            direct   \n",
              "3     FEMALE  42.0      facebook            0       en            direct   \n",
              "4  -unknown-  41.0         basic            0       en            direct   \n",
              "\n",
              "  affiliate_provider first_affiliate_tracked signup_app first_device_type  \\\n",
              "0             direct               untracked        Web       Mac Desktop   \n",
              "1             google               untracked        Web       Mac Desktop   \n",
              "2             direct               untracked        Web   Windows Desktop   \n",
              "3             direct               untracked        Web       Mac Desktop   \n",
              "4             direct               untracked        Web       Mac Desktop   \n",
              "\n",
              "  first_browser country_destination  \n",
              "0        Chrome                 NDF  \n",
              "1        Chrome                 NDF  \n",
              "2            IE                  US  \n",
              "3       Firefox               other  \n",
              "4        Chrome                  US  "
            ]
          },
          "metadata": {
            "tags": []
          },
          "execution_count": 5
        }
      ]
    },
    {
      "metadata": {
        "id": "9FVYYWBpL3Nc",
        "colab_type": "text"
      },
      "cell_type": "markdown",
      "source": [
        "There are 16 features used to describe each user in the dataset:\n",
        "\n",
        "1.\tuser id\n",
        "2.\tthe date of account creation\n",
        "3.\ttimestamp of the first activity, note that it can be earlier than\n",
        "4.\tdate of first booking\n",
        "5.\tgender\n",
        "6.\tage\n",
        "7.\tsignup_method\n",
        "8.\tthe page a user came to signup up from\n",
        "9.\tinternational language preference\n",
        "10.\twhat kind of paid marketing\n",
        "11.\twhere the marketing is e.g. google, craigslist, other\n",
        "12.\twhats the first marketing the user interacted with before the signing up\n",
        "13.\tsignup_app\n",
        "14.\tfirst_device_type\n",
        "15.\tfirst_browser\n"
      ]
    },
    {
      "metadata": {
        "id": "3nYtjapSR6IN",
        "colab_type": "code",
        "outputId": "bd307852-7f08-4dcb-df49-8731ebc9fb23",
        "colab": {
          "base_uri": "https://localhost:8080/",
          "height": 34
        }
      },
      "cell_type": "code",
      "source": [
        "train_data.shape"
      ],
      "execution_count": 0,
      "outputs": [
        {
          "output_type": "execute_result",
          "data": {
            "text/plain": [
              "(213451, 16)"
            ]
          },
          "metadata": {
            "tags": []
          },
          "execution_count": 6
        }
      ]
    },
    {
      "metadata": {
        "id": "CIWGSNnjNyY1",
        "colab_type": "text"
      },
      "cell_type": "markdown",
      "source": [
        "We have the data of 213k users"
      ]
    },
    {
      "metadata": {
        "id": "iz3ioEAlSCJG",
        "colab_type": "code",
        "colab": {}
      },
      "cell_type": "code",
      "source": [
        "test_data = pd.read_csv(\"drive/My Drive/Colab Notebooks/airbnb-recruiting-new-user-bookings/test_users.csv\")"
      ],
      "execution_count": 0,
      "outputs": []
    },
    {
      "metadata": {
        "id": "xV7gdDoSSdIU",
        "colab_type": "code",
        "outputId": "0d16352c-c9d9-4f5e-90f8-8782b4e1a34f",
        "colab": {
          "base_uri": "https://localhost:8080/",
          "height": 34
        }
      },
      "cell_type": "code",
      "source": [
        "test_data.shape"
      ],
      "execution_count": 0,
      "outputs": [
        {
          "output_type": "execute_result",
          "data": {
            "text/plain": [
              "(62096, 15)"
            ]
          },
          "metadata": {
            "tags": []
          },
          "execution_count": 8
        }
      ]
    },
    {
      "metadata": {
        "id": "ItO6a3rQE0uK",
        "colab_type": "text"
      },
      "cell_type": "markdown",
      "source": [
        "#### Missing Data"
      ]
    },
    {
      "metadata": {
        "id": "-jjZvUgPSrAh",
        "colab_type": "code",
        "outputId": "c43c07e3-9219-4025-b147-46c77efa123d",
        "colab": {
          "base_uri": "https://localhost:8080/",
          "height": 302
        }
      },
      "cell_type": "code",
      "source": [
        "train_data.isnull().sum()"
      ],
      "execution_count": 0,
      "outputs": [
        {
          "output_type": "execute_result",
          "data": {
            "text/plain": [
              "id                              0\n",
              "date_account_created            0\n",
              "timestamp_first_active          0\n",
              "date_first_booking         124543\n",
              "gender                          0\n",
              "age                         87990\n",
              "signup_method                   0\n",
              "signup_flow                     0\n",
              "language                        0\n",
              "affiliate_channel               0\n",
              "affiliate_provider              0\n",
              "first_affiliate_tracked      6065\n",
              "signup_app                      0\n",
              "first_device_type               0\n",
              "first_browser                   0\n",
              "country_destination             0\n",
              "dtype: int64"
            ]
          },
          "metadata": {
            "tags": []
          },
          "execution_count": 9
        }
      ]
    },
    {
      "metadata": {
        "id": "7cpapf37TKgy",
        "colab_type": "code",
        "outputId": "b4337eaa-2256-4ed5-edd5-c2f126a4292b",
        "colab": {
          "base_uri": "https://localhost:8080/",
          "height": 286
        }
      },
      "cell_type": "code",
      "source": [
        "test_data.isnull().sum()"
      ],
      "execution_count": 0,
      "outputs": [
        {
          "output_type": "execute_result",
          "data": {
            "text/plain": [
              "id                             0\n",
              "date_account_created           0\n",
              "timestamp_first_active         0\n",
              "date_first_booking         62096\n",
              "gender                         0\n",
              "age                        28876\n",
              "signup_method                  0\n",
              "signup_flow                    0\n",
              "language                       0\n",
              "affiliate_channel              0\n",
              "affiliate_provider             0\n",
              "first_affiliate_tracked       20\n",
              "signup_app                     0\n",
              "first_device_type              0\n",
              "first_browser                  0\n",
              "dtype: int64"
            ]
          },
          "metadata": {
            "tags": []
          },
          "execution_count": 10
        }
      ]
    },
    {
      "metadata": {
        "id": "sIkWqSl1sHBY",
        "colab_type": "text"
      },
      "cell_type": "markdown",
      "source": [
        "The training data consists of 213,451 rows x 16 columns while the test data has 62,096 rows x 15 columns with our target feature 'country_destination' being the additional column in the training set. We can immediately see that we have a substantial number of missing values for age."
      ]
    },
    {
      "metadata": {
        "id": "DyJO28CTTUG5",
        "colab_type": "code",
        "outputId": "b1ff4d0a-b798-4000-abf4-221347316624",
        "colab": {
          "base_uri": "https://localhost:8080/",
          "height": 168
        }
      },
      "cell_type": "code",
      "source": [
        "train_data.age.describe()"
      ],
      "execution_count": 0,
      "outputs": [
        {
          "output_type": "execute_result",
          "data": {
            "text/plain": [
              "count    125461.000000\n",
              "mean         49.668335\n",
              "std         155.666612\n",
              "min           1.000000\n",
              "25%          28.000000\n",
              "50%          34.000000\n",
              "75%          43.000000\n",
              "max        2014.000000\n",
              "Name: age, dtype: float64"
            ]
          },
          "metadata": {
            "tags": []
          },
          "execution_count": 11
        }
      ]
    },
    {
      "metadata": {
        "id": "a-xGwujvUbGx",
        "colab_type": "code",
        "outputId": "fb833f5c-2691-44c1-ffcf-78230635fddc",
        "colab": {
          "base_uri": "https://localhost:8080/",
          "height": 168
        }
      },
      "cell_type": "code",
      "source": [
        "train_data[train_data.age > 100].age.describe()"
      ],
      "execution_count": 0,
      "outputs": [
        {
          "output_type": "execute_result",
          "data": {
            "text/plain": [
              "count    2345.000000\n",
              "mean      738.697655\n",
              "std       897.655359\n",
              "min       101.000000\n",
              "25%       105.000000\n",
              "50%       105.000000\n",
              "75%      2014.000000\n",
              "max      2014.000000\n",
              "Name: age, dtype: float64"
            ]
          },
          "metadata": {
            "tags": []
          },
          "execution_count": 12
        }
      ]
    },
    {
      "metadata": {
        "id": "PgW_bQ0fU2RY",
        "colab_type": "code",
        "outputId": "39947f64-5348-44c0-c309-c0eceb9e1071",
        "colab": {
          "base_uri": "https://localhost:8080/",
          "height": 168
        }
      },
      "cell_type": "code",
      "source": [
        "train_data[train_data.age < 18].age.describe()"
      ],
      "execution_count": 0,
      "outputs": [
        {
          "output_type": "execute_result",
          "data": {
            "text/plain": [
              "count    158.000000\n",
              "mean      12.202532\n",
              "std        5.916359\n",
              "min        1.000000\n",
              "25%        5.000000\n",
              "50%       16.000000\n",
              "75%       17.000000\n",
              "max       17.000000\n",
              "Name: age, dtype: float64"
            ]
          },
          "metadata": {
            "tags": []
          },
          "execution_count": 13
        }
      ]
    },
    {
      "metadata": {
        "id": "l4rqjQNjtRLb",
        "colab_type": "text"
      },
      "cell_type": "markdown",
      "source": [
        "The age data is a bit messy. There are are around 88k missing from the train_data. Around 2350 have the age above 100 while 158 have age below 14. So any age below 14 and above 100 are set to NaN."
      ]
    },
    {
      "metadata": {
        "id": "3UX2b-cEVOUQ",
        "colab_type": "code",
        "outputId": "1d577ff7-8b45-4d63-da9e-c16fdd276861",
        "colab": {
          "base_uri": "https://localhost:8080/",
          "height": 84
        }
      },
      "cell_type": "code",
      "source": [
        "train_data['age'] = np.where(np.logical_or(train_data.age.values < 14, train_data.age.values > 100), np.nan, train_data.age.values)"
      ],
      "execution_count": 0,
      "outputs": [
        {
          "output_type": "stream",
          "text": [
            "/usr/local/lib/python3.6/dist-packages/ipykernel_launcher.py:1: RuntimeWarning: invalid value encountered in less\n",
            "  \"\"\"Entry point for launching an IPython kernel.\n",
            "/usr/local/lib/python3.6/dist-packages/ipykernel_launcher.py:1: RuntimeWarning: invalid value encountered in greater\n",
            "  \"\"\"Entry point for launching an IPython kernel.\n"
          ],
          "name": "stderr"
        }
      ]
    },
    {
      "metadata": {
        "id": "Wn_2ijqiXBYp",
        "colab_type": "code",
        "outputId": "8cb36951-0170-4f5f-a806-44b0cc48f17c",
        "colab": {
          "base_uri": "https://localhost:8080/",
          "height": 168
        }
      },
      "cell_type": "code",
      "source": [
        "train_data.age.describe()"
      ],
      "execution_count": 0,
      "outputs": [
        {
          "output_type": "execute_result",
          "data": {
            "text/plain": [
              "count    123059.000000\n",
              "mean         36.559211\n",
              "std          11.690611\n",
              "min          15.000000\n",
              "25%          28.000000\n",
              "50%          34.000000\n",
              "75%          42.000000\n",
              "max         100.000000\n",
              "Name: age, dtype: float64"
            ]
          },
          "metadata": {
            "tags": []
          },
          "execution_count": 15
        }
      ]
    },
    {
      "metadata": {
        "id": "qWwlX1m5XGla",
        "colab_type": "code",
        "colab": {}
      },
      "cell_type": "code",
      "source": [
        "missing_age = train_data[train_data.age.isnull()].country_destination.value_counts()"
      ],
      "execution_count": 0,
      "outputs": []
    },
    {
      "metadata": {
        "id": "vbBN2NO3dLFE",
        "colab_type": "code",
        "outputId": "10ca7b3e-07da-4966-8009-e1a5417b8fab",
        "colab": {
          "base_uri": "https://localhost:8080/",
          "height": 316
        }
      },
      "cell_type": "code",
      "source": [
        "missing_age.div(missing_age.sum()).plot(kind='bar',title='Country Destination Proportion (Age missing)')"
      ],
      "execution_count": 0,
      "outputs": [
        {
          "output_type": "execute_result",
          "data": {
            "text/plain": [
              "<matplotlib.axes._subplots.AxesSubplot at 0x7f450561cda0>"
            ]
          },
          "metadata": {
            "tags": []
          },
          "execution_count": 17
        },
        {
          "output_type": "display_data",
          "data": {
            "image/png": "[encoded data removed]",
            "text/plain": [
              "<Figure size 432x288 with 1 Axes>"
            ]
          },
          "metadata": {
            "tags": []
          }
        }
      ]
    },
    {
      "metadata": {
        "id": "Iss5GhSVdQ_0",
        "colab_type": "code",
        "colab": {}
      },
      "cell_type": "code",
      "source": [
        ""
      ],
      "execution_count": 0,
      "outputs": []
    },
    {
      "metadata": {
        "id": "gaqvaVcD49yN",
        "colab_type": "text"
      },
      "cell_type": "markdown",
      "source": [
        "## Data Analysis"
      ]
    },
    {
      "metadata": {
        "id": "y9EWUMIpdqZb",
        "colab_type": "code",
        "colab": {}
      },
      "cell_type": "code",
      "source": [
        ""
      ],
      "execution_count": 0,
      "outputs": []
    },
    {
      "metadata": {
        "id": "0AXZwpm-5aYS",
        "colab_type": "text"
      },
      "cell_type": "markdown",
      "source": [
        "### Gender"
      ]
    },
    {
      "metadata": {
        "id": "K3XiCXZF5cnK",
        "colab_type": "code",
        "outputId": "e28af12f-887d-49f0-b1ed-4cb99fc18317",
        "colab": {
          "base_uri": "https://localhost:8080/",
          "height": 328
        }
      },
      "cell_type": "code",
      "source": [
        "GenderTraffic = ((train_data.gender.value_counts() / train_data.shape[0]) * 100).plot(kind='bar')\n",
        "plt.xlabel('Gender')\n",
        "sns.despine()"
      ],
      "execution_count": 0,
      "outputs": [
        {
          "output_type": "display_data",
          "data": {
            "image/png": "[encoded data removed]",
            "text/plain": [
              "<Figure size 432x288 with 1 Axes>"
            ]
          },
          "metadata": {
            "tags": []
          }
        }
      ]
    },
    {
      "metadata": {
        "id": "izwNC7uTt7iR",
        "colab_type": "text"
      },
      "cell_type": "markdown",
      "source": [
        "As we've seen before at this plot we can see the amount of missing data in perspective. Also, notice that there is a slight difference between user gender."
      ]
    },
    {
      "metadata": {
        "id": "g1ndFmRkJPIg",
        "colab_type": "text"
      },
      "cell_type": "markdown",
      "source": [
        "### Age"
      ]
    },
    {
      "metadata": {
        "id": "oGiRlKCT6Etb",
        "colab_type": "code",
        "outputId": "2bd00813-ea9d-4b5e-e8d8-c81b41ba93b5",
        "colab": {
          "base_uri": "https://localhost:8080/",
          "height": 342
        }
      },
      "cell_type": "code",
      "source": [
        "sns.distplot(train_data.age.dropna())\n",
        "plt.xlabel('Probability Distribution of Age')\n",
        "sns.despine()"
      ],
      "execution_count": 0,
      "outputs": [
        {
          "output_type": "stream",
          "text": [
            "/usr/local/lib/python3.6/dist-packages/matplotlib/axes/_axes.py:6521: MatplotlibDeprecationWarning: \n",
            "The 'normed' kwarg was deprecated in Matplotlib 2.1 and will be removed in 3.1. Use 'density' instead.\n",
            "  alternative=\"'density'\", removal=\"3.1\")\n"
          ],
          "name": "stderr"
        },
        {
          "output_type": "display_data",
          "data": {
            "image/png": "[encoded data removed]",
            "text/plain": [
              "<Figure size 432x288 with 1 Axes>"
            ]
          },
          "metadata": {
            "tags": []
          }
        }
      ]
    },
    {
      "metadata": {
        "id": "I-YC2SveuSei",
        "colab_type": "text"
      },
      "cell_type": "markdown",
      "source": [
        "As expected, most number of users are between the age of 25 and 40."
      ]
    },
    {
      "metadata": {
        "id": "pKt4EeILCJmp",
        "colab_type": "code",
        "colab": {}
      },
      "cell_type": "code",
      "source": [
        ""
      ],
      "execution_count": 0,
      "outputs": []
    },
    {
      "metadata": {
        "id": "yXyeotmgpTQX",
        "colab_type": "text"
      },
      "cell_type": "markdown",
      "source": [
        "### Destination Country"
      ]
    },
    {
      "metadata": {
        "id": "9ZMSFMDXpVrZ",
        "colab_type": "code",
        "outputId": "c0b617e9-a6ae-4206-abb9-7966a3434b08",
        "colab": {
          "base_uri": "https://localhost:8080/",
          "height": 304
        }
      },
      "cell_type": "code",
      "source": [
        "destination = ((train_data.country_destination.value_counts() / train_data.shape[0]) * 100).plot(kind='bar',color='Orange')\n",
        "plt.xlabel('Destination Country')\n",
        "plt.ylabel('Percentage')\n",
        "sns.despine()"
      ],
      "execution_count": 0,
      "outputs": [
        {
          "output_type": "display_data",
          "data": {
            "image/png": "[encoded data removed]",
            "text/plain": [
              "<Figure size 432x288 with 1 Axes>"
            ]
          },
          "metadata": {
            "tags": []
          }
        }
      ]
    },
    {
      "metadata": {
        "id": "Gn2z5hTruig1",
        "colab_type": "text"
      },
      "cell_type": "markdown",
      "source": [
        "Higher percentage of users prefer to travel within the US."
      ]
    },
    {
      "metadata": {
        "id": "y7CPb4t2q_4R",
        "colab_type": "code",
        "colab": {}
      },
      "cell_type": "code",
      "source": [
        ""
      ],
      "execution_count": 0,
      "outputs": []
    },
    {
      "metadata": {
        "id": "KKs0TAF-rhWO",
        "colab_type": "text"
      },
      "cell_type": "markdown",
      "source": [
        "### Platform"
      ]
    },
    {
      "metadata": {
        "id": "2JwmxNEErjNh",
        "colab_type": "code",
        "outputId": "1b6cf0aa-0cbe-4165-9f57-83051996fd3b",
        "colab": {
          "base_uri": "https://localhost:8080/",
          "height": 371
        }
      },
      "cell_type": "code",
      "source": [
        "Platform = ((train_data.first_device_type.value_counts() / train_data.shape[0]) * 100).plot(kind=\"bar\",color='Green')\n",
        "plt.xlabel('Platform')\n",
        "plt.ylabel('Percentage')\n",
        "sns.despine()"
      ],
      "execution_count": 0,
      "outputs": [
        {
          "output_type": "display_data",
          "data": {
            "image/png": "[encoded data removed]",
            "text/plain": [
              "<Figure size 432x288 with 1 Axes>"
            ]
          },
          "metadata": {
            "tags": []
          }
        }
      ]
    },
    {
      "metadata": {
        "id": "Mfvh9VQkvPYg",
        "colab_type": "text"
      },
      "cell_type": "markdown",
      "source": [
        "Nearly 42% of users are Mac users while 34% are Windows Desktop users\n"
      ]
    },
    {
      "metadata": {
        "id": "2ZN3h1Jsu_j3",
        "colab_type": "text"
      },
      "cell_type": "markdown",
      "source": [
        "###Signup Method"
      ]
    },
    {
      "metadata": {
        "id": "_-tnKhh9SU1Z",
        "colab_type": "code",
        "outputId": "1e569442-f6ba-4d00-93c4-d78dc541385a",
        "colab": {
          "base_uri": "https://localhost:8080/",
          "height": 84
        }
      },
      "cell_type": "code",
      "source": [
        "train_data.signup_method.value_counts()"
      ],
      "execution_count": 0,
      "outputs": [
        {
          "output_type": "execute_result",
          "data": {
            "text/plain": [
              "basic       152897\n",
              "facebook     60008\n",
              "google         546\n",
              "Name: signup_method, dtype: int64"
            ]
          },
          "metadata": {
            "tags": []
          },
          "execution_count": 39
        }
      ]
    },
    {
      "metadata": {
        "id": "umWMivV-vW5x",
        "colab_type": "text"
      },
      "cell_type": "markdown",
      "source": [
        "Several users signup through Facebook. Airbnb can try to run more targeted campaigns on Facebook."
      ]
    },
    {
      "metadata": {
        "id": "MZZUGbE-w0sJ",
        "colab_type": "text"
      },
      "cell_type": "markdown",
      "source": [
        "### First Browser"
      ]
    },
    {
      "metadata": {
        "id": "hF2QxC7vSbil",
        "colab_type": "code",
        "outputId": "a8f46a73-8aed-441c-d416-2baff6b5163d",
        "colab": {
          "base_uri": "https://localhost:8080/",
          "height": 907
        }
      },
      "cell_type": "code",
      "source": [
        "train_data.first_browser.value_counts()"
      ],
      "execution_count": 0,
      "outputs": [
        {
          "output_type": "execute_result",
          "data": {
            "text/plain": [
              "Chrome                  63845\n",
              "Safari                  45169\n",
              "Firefox                 33655\n",
              "-unknown-               27266\n",
              "IE                      21068\n",
              "Mobile Safari           19274\n",
              "Chrome Mobile            1270\n",
              "Android Browser           851\n",
              "AOL Explorer              245\n",
              "Opera                     188\n",
              "Silk                      124\n",
              "Chromium                   73\n",
              "BlackBerry Browser         53\n",
              "Maxthon                    46\n",
              "Apple Mail                 36\n",
              "IE Mobile                  36\n",
              "Sogou Explorer             33\n",
              "Mobile Firefox             30\n",
              "SiteKiosk                  24\n",
              "RockMelt                   24\n",
              "Iron                       17\n",
              "IceWeasel                  13\n",
              "Pale Moon                  12\n",
              "Yandex.Browser             11\n",
              "SeaMonkey                  11\n",
              "CometBird                  11\n",
              "Camino                      9\n",
              "TenFourFox                  8\n",
              "wOSBrowser                  6\n",
              "CoolNovo                    6\n",
              "Opera Mini                  4\n",
              "Avant Browser               4\n",
              "Mozilla                     3\n",
              "OmniWeb                     2\n",
              "Flock                       2\n",
              "TheWorld Browser            2\n",
              "Crazy Browser               2\n",
              "Opera Mobile                2\n",
              "Comodo Dragon               2\n",
              "SlimBrowser                 2\n",
              "NetNewsWire                 1\n",
              "IceDragon                   1\n",
              "Outlook 2007                1\n",
              "Googlebot                   1\n",
              "Conkeror                    1\n",
              "Stainless                   1\n",
              "Epic                        1\n",
              "Arora                       1\n",
              "Palm Pre web browser        1\n",
              "PS Vita browser             1\n",
              "Google Earth                1\n",
              "Kindle Browser              1\n",
              "Name: first_browser, dtype: int64"
            ]
          },
          "metadata": {
            "tags": []
          },
          "execution_count": 41
        }
      ]
    },
    {
      "metadata": {
        "id": "9ZvOzSZzw-8w",
        "colab_type": "code",
        "colab": {}
      },
      "cell_type": "code",
      "source": [
        ""
      ],
      "execution_count": 0,
      "outputs": []
    },
    {
      "metadata": {
        "id": "dv6uaZb5w_gS",
        "colab_type": "text"
      },
      "cell_type": "markdown",
      "source": [
        "###Accounts created on a given time interval"
      ]
    },
    {
      "metadata": {
        "id": "a9Zq0aM1PG6l",
        "colab_type": "code",
        "outputId": "0ab0f6da-4b8d-4e4e-a578-9bd34a8b4c6c",
        "colab": {
          "base_uri": "https://localhost:8080/",
          "height": 402
        }
      },
      "cell_type": "code",
      "source": [
        "fig = plt.figure(figsize = (12, 6))\n",
        "train_data.date_account_created = pd.to_datetime(train_data.date_account_created)\n",
        "train_data.date_account_created.value_counts().plot('line', color = \"Red\")\n",
        "plt.xlabel('Year')\n",
        "plt.ylabel('Count created')"
      ],
      "execution_count": 0,
      "outputs": [
        {
          "output_type": "execute_result",
          "data": {
            "text/plain": [
              "Text(0, 0.5, 'Count created')"
            ]
          },
          "metadata": {
            "tags": []
          },
          "execution_count": 37
        },
        {
          "output_type": "display_data",
          "data": {
            "image/png": "[encoded data removed]",
            "text/plain": [
              "<Figure size 864x432 with 1 Axes>"
            ]
          },
          "metadata": {
            "tags": []
          }
        }
      ]
    },
    {
      "metadata": {
        "id": "4ZLT-wwbxPFA",
        "colab_type": "text"
      },
      "cell_type": "markdown",
      "source": [
        "It's appreciable how fast Airbnb has grown over the last 4 years."
      ]
    },
    {
      "metadata": {
        "id": "SCjEf7aZRQhB",
        "colab_type": "code",
        "outputId": "b337ef0f-f703-465c-896a-959dd7161253",
        "colab": {
          "base_uri": "https://localhost:8080/",
          "height": 336
        }
      },
      "cell_type": "code",
      "source": [
        "train_data.affiliate_provider.value_counts()"
      ],
      "execution_count": 0,
      "outputs": [
        {
          "output_type": "execute_result",
          "data": {
            "text/plain": [
              "direct                 137426\n",
              "google                  51693\n",
              "other                   12549\n",
              "craigslist               3471\n",
              "bing                     2328\n",
              "facebook                 2273\n",
              "vast                      829\n",
              "padmapper                 768\n",
              "facebook-open-graph       545\n",
              "yahoo                     496\n",
              "gsp                       453\n",
              "meetup                    347\n",
              "email-marketing           166\n",
              "naver                      52\n",
              "baidu                      29\n",
              "yandex                     17\n",
              "wayn                        8\n",
              "daum                        1\n",
              "Name: affiliate_provider, dtype: int64"
            ]
          },
          "metadata": {
            "tags": []
          },
          "execution_count": 42
        }
      ]
    },
    {
      "metadata": {
        "id": "9bFCvVLsUItM",
        "colab_type": "code",
        "colab": {}
      },
      "cell_type": "code",
      "source": [
        ""
      ],
      "execution_count": 0,
      "outputs": []
    }
  ]
}